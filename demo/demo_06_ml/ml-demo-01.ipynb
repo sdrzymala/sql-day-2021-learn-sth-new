{
  "cells": [
    {
      "cell_type": "markdown",
      "source": [
        "# Connect to Azure ML workspace"
      ],
      "metadata": {
        "nteract": {
          "transient": {
            "deleting": false
          }
        }
      }
    },
    {
      "cell_type": "code",
      "source": [
        "from azureml.core import Workspace\r\n",
        "\r\n",
        "workspace_name = 'sd-ml'\r\n",
        "subscription_id = 'c374c749-c070-4b3b-9fb4-40a657b1d4a5' # subscription id of ADLS account\r\n",
        "resource_group = 'rs-sd-learn-sth-new' # resource group of ADLS account\r\n",
        "\r\n",
        "workspace = Workspace.get(\r\n",
        "    name = workspace_name,\r\n",
        "    subscription_id = subscription_id,\r\n",
        "    resource_group = resource_group\r\n",
        ")\r\n",
        "\r\n",
        "print (\"workspace to be used: \" + workspace.name)\r\n"
      ],
      "outputs": [
        {
          "output_type": "stream",
          "name": "stdout",
          "text": [
            "workspace to be used: sd-ml\n"
          ]
        }
      ],
      "execution_count": 1,
      "metadata": {
        "gather": {
          "logged": 1620606143474
        }
      }
    },
    {
      "cell_type": "markdown",
      "source": [
        "# Get or set up datastore"
      ],
      "metadata": {
        "nteract": {
          "transient": {
            "deleting": false
          }
        }
      }
    },
    {
      "cell_type": "code",
      "source": [
        "from azureml.core import Datastore\r\n",
        "\r\n",
        "datastore_name = 'learnsthnew_datastore'\r\n",
        "filesystem = 'learnsthnew'\r\n",
        "\r\n",
        "subscription_id = 'c374c749-c070-4b3b-9fb4-40a657b1d4a5' # subscription id of ADLS account\r\n",
        "resource_group = 'rs-sd-learn-sth-new' # resource group of ADLS account\r\n",
        "\r\n",
        "account_name = 'sdsalearnsthnew' # ADLS Gen2 account name\r\n",
        "tenant_id = '680b5d20-b41e-46f8-a077-f482d0c64dbb' # tenant id of service principal\r\n",
        "client_id = '6df9c689-4854-45ec-a9c2-55194c54c511' # client id of service principal\r\n",
        "client_secret = 'Is5A5Jctw1~Ge-hi4EOS_RmRahG5_s43F4' # the secret of service principal\r\n",
        "\r\n",
        "try:\r\n",
        "    datastore = Datastore.get(\r\n",
        "        workspace = workspace,\r\n",
        "        datastore_name = datastore_name\r\n",
        "    )\r\n",
        "except Exception as exc:\r\n",
        "    datastore = Datastore.register_azure_data_lake_gen2(\r\n",
        "        workspace = workspace,\r\n",
        "        subscription_id = subscription_id,\r\n",
        "        resource_group = resource_group,\r\n",
        "        datastore_name = datastore_name,\r\n",
        "        account_name = account_name, # ADLS Gen2 account name\r\n",
        "        filesystem = filesystem, # ADLS Gen2 filesystem\r\n",
        "        tenant_id = tenant_id, # tenant id of service principal\r\n",
        "        client_id = client_id, # client id of service principal\r\n",
        "        client_secret = client_secret # the secret of service principal\r\n",
        "    )\r\n",
        "\r\n",
        "print (\"datastore to be used: \" + datastore.name)\r\n"
      ],
      "outputs": [
        {
          "output_type": "stream",
          "name": "stdout",
          "text": [
            "datastore to be used: learnsthnew_datastore\n"
          ]
        }
      ],
      "execution_count": 2,
      "metadata": {
        "collapsed": true,
        "jupyter": {
          "source_hidden": false,
          "outputs_hidden": false
        },
        "nteract": {
          "transient": {
            "deleting": false
          }
        },
        "gather": {
          "logged": 1620606145008
        }
      }
    },
    {
      "cell_type": "markdown",
      "source": [
        "# Get or set up dataset"
      ],
      "metadata": {
        "nteract": {
          "transient": {
            "deleting": false
          }
        }
      }
    },
    {
      "cell_type": "code",
      "source": [
        "from azureml.core import Dataset\r\n",
        "\r\n",
        "datastore_name = 'learnsthnew_datastore'\r\n",
        "dataset_name = 'playlist_statistics'\r\n",
        "dataset_description = 'radio song playlist statistics'\r\n",
        "\r\n",
        "try:\r\n",
        "    dataset = Dataset.get_by_name(\r\n",
        "        workspace = workspace, \r\n",
        "        name = dataset_name\r\n",
        "    )\r\n",
        "except Exception as exc:\r\n",
        "    datastore_paths = [(datastore, '/analytics/playlist_statistics.parquet/*.parquet')]\r\n",
        "    dataset = Dataset.Tabular.from_parquet_files(path=datastore_paths, validate=False)\r\n",
        "    dataset = dataset.register(\r\n",
        "        workspace=workspace,\r\n",
        "        name = dataset_name,\r\n",
        "        description = dataset_description\r\n",
        "    )\r\n",
        "\r\n",
        "print (\"dataset to be used: \" + dataset.name)"
      ],
      "outputs": [
        {
          "output_type": "stream",
          "name": "stdout",
          "text": [
            "dataset to be used: playlist_statistics\n"
          ]
        }
      ],
      "execution_count": 3,
      "metadata": {
        "collapsed": true,
        "jupyter": {
          "source_hidden": false,
          "outputs_hidden": false
        },
        "nteract": {
          "transient": {
            "deleting": false
          }
        },
        "gather": {
          "logged": 1620606147924
        }
      }
    },
    {
      "cell_type": "markdown",
      "source": [
        "# Read data and convert dataset to pandas dataframe"
      ],
      "metadata": {
        "nteract": {
          "transient": {
            "deleting": false
          }
        }
      }
    },
    {
      "cell_type": "code",
      "source": [
        "df = dataset.to_pandas_dataframe()"
      ],
      "outputs": [],
      "execution_count": 4,
      "metadata": {
        "collapsed": true,
        "jupyter": {
          "source_hidden": false,
          "outputs_hidden": false
        },
        "nteract": {
          "transient": {
            "deleting": false
          }
        },
        "gather": {
          "logged": 1620606165308
        }
      }
    },
    {
      "cell_type": "markdown",
      "source": [
        "# Check sample 5 rows of current dataset"
      ],
      "metadata": {
        "nteract": {
          "transient": {
            "deleting": false
          }
        }
      }
    },
    {
      "cell_type": "code",
      "source": [
        "df.head()"
      ],
      "outputs": [
        {
          "output_type": "execute_result",
          "execution_count": 5,
          "data": {
            "text/plain": "  radio_name month_name               artist_and_title  played\n0      RMFFM    January      #razemrobimydobro - Razem       0\n1      RMFFM    January  2+1 - Chodź Pomaluj Mój Świat       0\n2      RMFFM    January               Abba - Mamma Mia       1\n3      RMFFM    January         Abc - The Look Of Love       0\n4      RMFFM    January          Ac/dc - Thunderstruck       0",
            "text/html": "<div>\n<style scoped>\n    .dataframe tbody tr th:only-of-type {\n        vertical-align: middle;\n    }\n\n    .dataframe tbody tr th {\n        vertical-align: top;\n    }\n\n    .dataframe thead th {\n        text-align: right;\n    }\n</style>\n<table border=\"1\" class=\"dataframe\">\n  <thead>\n    <tr style=\"text-align: right;\">\n      <th></th>\n      <th>radio_name</th>\n      <th>month_name</th>\n      <th>artist_and_title</th>\n      <th>played</th>\n    </tr>\n  </thead>\n  <tbody>\n    <tr>\n      <th>0</th>\n      <td>RMFFM</td>\n      <td>January</td>\n      <td>#razemrobimydobro - Razem</td>\n      <td>0</td>\n    </tr>\n    <tr>\n      <th>1</th>\n      <td>RMFFM</td>\n      <td>January</td>\n      <td>2+1 - Chodź Pomaluj Mój Świat</td>\n      <td>0</td>\n    </tr>\n    <tr>\n      <th>2</th>\n      <td>RMFFM</td>\n      <td>January</td>\n      <td>Abba - Mamma Mia</td>\n      <td>1</td>\n    </tr>\n    <tr>\n      <th>3</th>\n      <td>RMFFM</td>\n      <td>January</td>\n      <td>Abc - The Look Of Love</td>\n      <td>0</td>\n    </tr>\n    <tr>\n      <th>4</th>\n      <td>RMFFM</td>\n      <td>January</td>\n      <td>Ac/dc - Thunderstruck</td>\n      <td>0</td>\n    </tr>\n  </tbody>\n</table>\n</div>"
          },
          "metadata": {}
        }
      ],
      "execution_count": 5,
      "metadata": {
        "collapsed": true,
        "jupyter": {
          "source_hidden": false,
          "outputs_hidden": false
        },
        "nteract": {
          "transient": {
            "deleting": false
          }
        },
        "gather": {
          "logged": 1620606165547
        }
      }
    },
    {
      "cell_type": "markdown",
      "source": [
        "# Exploratory data analysis\r\n",
        "\r\n",
        "* Exploratory data analysis - initial checking, investigating and getting the knowledge about the dataset\r\n",
        "* in that case we see that the dataset is really skewed in terms of songs that were played and that were not played, that metters, **remember to choose the best algorithem for your data**"
      ],
      "metadata": {
        "nteract": {
          "transient": {
            "deleting": false
          }
        }
      }
    },
    {
      "cell_type": "code",
      "source": [
        "import matplotlib.pyplot as plt\r\n",
        "\r\n",
        "# create dataset for chart\r\n",
        "df_played_song_statistics = df[['played']].groupby(['played']).size().to_frame('cnt').reset_index()\r\n",
        "\r\n",
        "x = df_played_song_statistics['played'].astype(str)\r\n",
        "y = df_played_song_statistics['cnt']\r\n",
        "\r\n",
        "# create chart\r\n",
        "plt.bar(x, y)\r\n",
        "plt.gcf().axes[0].yaxis.get_major_formatter().set_scientific(False)\r\n",
        "\r\n",
        "for index, value in enumerate(y):\r\n",
        "    plt.text(index,value, str(value), ha='center', va='bottom')\r\n",
        "\r\n",
        "plt.show()\r\n"
      ],
      "outputs": [
        {
          "output_type": "display_data",
          "data": {
            "text/plain": "<Figure size 432x288 with 1 Axes>",
            "image/png": "[encoded data removed]"
          },
          "metadata": {
            "needs_background": "light"
          }
        }
      ],
      "execution_count": 6,
      "metadata": {
        "collapsed": true,
        "jupyter": {
          "source_hidden": false,
          "outputs_hidden": false
        },
        "nteract": {
          "transient": {
            "deleting": false
          }
        },
        "gather": {
          "logged": 1620606167123
        }
      }
    },
    {
      "cell_type": "markdown",
      "source": [
        "# Encode the categorical text attributes to numeric values\r\n",
        "\r\n",
        "Some ML algorithemes doesn't work that great or doesn't work at all with the text attributes and therefore we should perform some feature preperation. \r\n",
        "There is many options avaliablle in that case we will use Label Encoding, but one of the other extreamly popular way would be OneHotEncoder.\r\n",
        "OneHotEncoder would create a new column for each distint value of the attribute with a boolean information if the given example is assigned to. \r\n",
        "Please note that in the case of song title that would dramatically increase the size of the dataframe.\r\n",
        "\r\n",
        "We will perform a label encoder which will convert all text values to the numerical values so the same text value will get the same numeric value.\r\n",
        "\r\n",
        "Example:\r\n",
        "* January - 0\r\n",
        "* February - 1\r\n",
        "* ...\r\n",
        "* November - 10\r\n",
        "* December - 11\r\n",
        "\r\n",
        "That will be done automatically with usage of sklearn library.\r\n"
      ],
      "metadata": {
        "nteract": {
          "transient": {
            "deleting": false
          }
        }
      }
    },
    {
      "cell_type": "code",
      "source": [
        "from sklearn.preprocessing import OneHotEncoder, LabelEncoder\r\n",
        "\r\n",
        "labelencoder = LabelEncoder()\r\n",
        "# Assigning numerical values and storing in another column\r\n",
        "df['radio_name_enc'] = labelencoder.fit_transform(df['radio_name'])\r\n",
        "df['month_name_enc'] = labelencoder.fit_transform(df['month_name'])\r\n",
        "df['artist_and_title_enc'] = labelencoder.fit_transform(df['artist_and_title'])"
      ],
      "outputs": [],
      "execution_count": 7,
      "metadata": {
        "collapsed": true,
        "jupyter": {
          "source_hidden": false,
          "outputs_hidden": false
        },
        "nteract": {
          "transient": {
            "deleting": false
          }
        },
        "gather": {
          "logged": 1620606180028
        }
      }
    },
    {
      "cell_type": "markdown",
      "source": [
        "# Check sample 5 rows of current dataset"
      ],
      "metadata": {
        "nteract": {
          "transient": {
            "deleting": false
          }
        }
      }
    },
    {
      "cell_type": "code",
      "source": [
        "df.head()"
      ],
      "outputs": [
        {
          "output_type": "execute_result",
          "execution_count": 8,
          "data": {
            "text/plain": "  radio_name month_name               artist_and_title  played  \\\n0      RMFFM    January      #razemrobimydobro - Razem       0   \n1      RMFFM    January  2+1 - Chodź Pomaluj Mój Świat       0   \n2      RMFFM    January               Abba - Mamma Mia       1   \n3      RMFFM    January         Abc - The Look Of Love       0   \n4      RMFFM    January          Ac/dc - Thunderstruck       0   \n\n   radio_name_enc  month_name_enc  artist_and_title_enc  \n0               0               4                     0  \n1               0               4                    11  \n2               0               4                    40  \n3               0               4                    45  \n4               0               4                    49  ",
            "text/html": "<div>\n<style scoped>\n    .dataframe tbody tr th:only-of-type {\n        vertical-align: middle;\n    }\n\n    .dataframe tbody tr th {\n        vertical-align: top;\n    }\n\n    .dataframe thead th {\n        text-align: right;\n    }\n</style>\n<table border=\"1\" class=\"dataframe\">\n  <thead>\n    <tr style=\"text-align: right;\">\n      <th></th>\n      <th>radio_name</th>\n      <th>month_name</th>\n      <th>artist_and_title</th>\n      <th>played</th>\n      <th>radio_name_enc</th>\n      <th>month_name_enc</th>\n      <th>artist_and_title_enc</th>\n    </tr>\n  </thead>\n  <tbody>\n    <tr>\n      <th>0</th>\n      <td>RMFFM</td>\n      <td>January</td>\n      <td>#razemrobimydobro - Razem</td>\n      <td>0</td>\n      <td>0</td>\n      <td>4</td>\n      <td>0</td>\n    </tr>\n    <tr>\n      <th>1</th>\n      <td>RMFFM</td>\n      <td>January</td>\n      <td>2+1 - Chodź Pomaluj Mój Świat</td>\n      <td>0</td>\n      <td>0</td>\n      <td>4</td>\n      <td>11</td>\n    </tr>\n    <tr>\n      <th>2</th>\n      <td>RMFFM</td>\n      <td>January</td>\n      <td>Abba - Mamma Mia</td>\n      <td>1</td>\n      <td>0</td>\n      <td>4</td>\n      <td>40</td>\n    </tr>\n    <tr>\n      <th>3</th>\n      <td>RMFFM</td>\n      <td>January</td>\n      <td>Abc - The Look Of Love</td>\n      <td>0</td>\n      <td>0</td>\n      <td>4</td>\n      <td>45</td>\n    </tr>\n    <tr>\n      <th>4</th>\n      <td>RMFFM</td>\n      <td>January</td>\n      <td>Ac/dc - Thunderstruck</td>\n      <td>0</td>\n      <td>0</td>\n      <td>4</td>\n      <td>49</td>\n    </tr>\n  </tbody>\n</table>\n</div>"
          },
          "metadata": {}
        }
      ],
      "execution_count": 8,
      "metadata": {
        "collapsed": true,
        "jupyter": {
          "source_hidden": false,
          "outputs_hidden": false
        },
        "nteract": {
          "transient": {
            "deleting": false
          }
        },
        "gather": {
          "logged": 1620606180244
        }
      }
    },
    {
      "cell_type": "markdown",
      "source": [
        "# Split the dataset into features and labels\r\n",
        "\r\n",
        "Features - attributes that will be used to predict the target value, please note that here we are using the encoded attributes and not the original ones\r\n",
        "\r\n",
        "Label - the label of each row, also the value that will be predicted"
      ],
      "metadata": {
        "nteract": {
          "transient": {
            "deleting": false
          }
        }
      }
    },
    {
      "cell_type": "code",
      "source": [
        "# Separate features and labels\r\n",
        "features = [\"radio_name_enc\", \"month_name_enc\", \"artist_and_title_enc\"]\r\n",
        "label = 'played'\r\n",
        "X, y = df[features].values, df[label].values\r\n"
      ],
      "outputs": [],
      "execution_count": 9,
      "metadata": {
        "collapsed": true,
        "jupyter": {
          "source_hidden": false,
          "outputs_hidden": false
        },
        "nteract": {
          "transient": {
            "deleting": false
          }
        },
        "gather": {
          "logged": 1620606180945
        }
      }
    },
    {
      "cell_type": "markdown",
      "source": [
        "# Split dataset into train and test subsets"
      ],
      "metadata": {
        "nteract": {
          "transient": {
            "deleting": false
          }
        }
      }
    },
    {
      "cell_type": "code",
      "source": [
        "from sklearn.model_selection import train_test_split\r\n",
        "\r\n",
        "# Split data 70%-30% into training set and test set\r\n",
        "X_train, X_test, y_train, y_test = train_test_split(X, y, test_size=0.30, random_state=0)\r\n",
        "\r\n",
        "print ('Training cases: %d\\nTest cases: %d' % (X_train.shape[0], X_test.shape[0]))"
      ],
      "outputs": [
        {
          "output_type": "stream",
          "name": "stdout",
          "text": [
            "Training cases: 19237748\n",
            "Test cases: 8244750\n"
          ]
        }
      ],
      "execution_count": 10,
      "metadata": {
        "collapsed": true,
        "jupyter": {
          "source_hidden": false,
          "outputs_hidden": false
        },
        "nteract": {
          "transient": {
            "deleting": false
          }
        },
        "gather": {
          "logged": 1620606184990
        }
      }
    },
    {
      "cell_type": "markdown",
      "source": [
        "# Create prediction model using LogisticRegression and validate the model\r\n",
        "\r\n",
        "* **Accuracy classification score** - In multilabel classification, this function computes subset accuracy: the set of labels predicted for a sample must exactly match the corresponding set of labels in y_true.\r\n",
        "* **Other metrics** - Precision, Recall, F1-Score, Support, etc, please read more in that area\r\n",
        "* **Confusion matrix** - Compute confusion matrix to evaluate the accuracy of a classification.\r\n",
        "![alt text](img/confusion_matrix.png)\r\n"
      ],
      "metadata": {
        "nteract": {
          "transient": {
            "deleting": false
          }
        }
      }
    },
    {
      "cell_type": "code",
      "source": [
        "# Train the model\r\n",
        "from sklearn.linear_model import LogisticRegression\r\n",
        "from sklearn.metrics import accuracy_score, classification_report, confusion_matrix\r\n",
        "\r\n",
        "# Set regularization rate\r\n",
        "reg = 0.01\r\n",
        "\r\n",
        "# train a logistic regression model on the training set\r\n",
        "model_a = LogisticRegression(C=1/reg, solver=\"liblinear\")\r\n",
        "model_a.fit(X_train, y_train)\r\n",
        "predictions_a = model_a.predict(X_test)\r\n",
        "\r\n",
        "print('Accuracy: ', accuracy_score(y_test, predictions_a))\r\n",
        "print(confusion_matrix(y_test, predictions_a))\r\n"
      ],
      "outputs": [
        {
          "output_type": "stream",
          "name": "stdout",
          "text": [
            "Accuracy:  0.9569386579338367\n",
            "[[7889720       0]\n",
            " [ 355030       0]]\n"
          ]
        }
      ],
      "execution_count": 11,
      "metadata": {
        "collapsed": true,
        "jupyter": {
          "source_hidden": false,
          "outputs_hidden": false
        },
        "nteract": {
          "transient": {
            "deleting": false
          }
        },
        "gather": {
          "logged": 1620606259491
        }
      }
    },
    {
      "cell_type": "markdown",
      "source": [
        "# Create prediction model using DecissionTreeClassifier and validate the model"
      ],
      "metadata": {
        "nteract": {
          "transient": {
            "deleting": false
          }
        }
      }
    },
    {
      "cell_type": "code",
      "source": [
        "# Train the model\r\n",
        "from sklearn.tree import DecisionTreeClassifier\r\n",
        "from sklearn.metrics import accuracy_score, classification_report, confusion_matrix\r\n",
        "\r\n",
        "# Create Decision Tree classifer object\r\n",
        "model_b = DecisionTreeClassifier()\r\n",
        "model_b.fit(X_train,y_train)\r\n",
        "predictions_b = model_b.predict(X_test)\r\n",
        "\r\n",
        "print('Accuracy: ', accuracy_score(y_test, predictions_b))\r\n",
        "print(confusion_matrix(y_test, predictions_b))"
      ],
      "outputs": [
        {
          "output_type": "stream",
          "name": "stdout",
          "text": [
            "Accuracy:  0.9571007004457383\n",
            "[[7884085    5635]\n",
            " [ 348059    6971]]\n"
          ]
        }
      ],
      "execution_count": 12,
      "metadata": {
        "collapsed": true,
        "jupyter": {
          "source_hidden": false,
          "outputs_hidden": false
        },
        "nteract": {
          "transient": {
            "deleting": false
          }
        },
        "gather": {
          "logged": 1620606348271
        }
      }
    },
    {
      "cell_type": "markdown",
      "source": [
        "# Use the model to check (predict) if given song will be played\r\n",
        "* use christmass song - Wham! - Last Christmas\r\n",
        "* check for two different months - July and December"
      ],
      "metadata": {
        "nteract": {
          "transient": {
            "deleting": false
          }
        }
      }
    },
    {
      "cell_type": "code",
      "source": [
        "radio_name = 'RMFFM'\r\n",
        "artist_and_title = 'Wham! - Last Christmas'\r\n",
        "month_a = 'December'\r\n",
        "month_b = 'June'\r\n",
        "\r\n",
        "radio_enc = df.loc[((df['radio_name'] == radio_name))][[\"radio_name_enc\"]].drop_duplicates( keep=\"first\").values[0][0]\r\n",
        "artist_title_enc = df.loc[((df['artist_and_title'] == artist_and_title))][[\"artist_and_title_enc\"]].drop_duplicates( keep=\"first\").values[0][0]\r\n",
        "month_a_enc = df.loc[((df['month_name'] == month_a))][[\"month_name_enc\"]].drop_duplicates( keep=\"first\").values[0][0]\r\n",
        "month_b_enc = df.loc[((df['month_name'] == month_b))][[\"month_name_enc\"]].drop_duplicates( keep=\"first\").values[0][0]\r\n",
        "\r\n",
        "model_a_month_a = model_a.predict([[radio_enc,month_a_enc,artist_title_enc]])\r\n",
        "model_a_month_b = model_a.predict([[radio_enc,month_b_enc,artist_title_enc]])\r\n",
        "model_b_month_a = model_b.predict([[radio_enc,month_a_enc,artist_title_enc]])\r\n",
        "model_b_month_b = model_b.predict([[radio_enc,month_b_enc,artist_title_enc]])\r\n",
        "\r\n",
        "print (f\"Predict results using model 'a' for radio: {radio_name}, month: {month_a[0:3]}, artist and title: {artist_and_title}, results {str(model_a_month_a[0])}\" )\r\n",
        "print (f\"Predict results using model 'a' for radio: {radio_name}, month: {month_b[0:3]}, artist and title: {artist_and_title}, results {str(model_a_month_b[0])}\" )\r\n",
        "print (f\"Predict results using model 'b' for radio: {radio_name}, month: {month_a[0:3]}, artist and title: {artist_and_title}, results {str(model_b_month_a[0])}\" )\r\n",
        "print (f\"Predict results using model 'b' for radio: {radio_name}, month: {month_b[0:3]}, artist and title: {artist_and_title}, results {str(model_b_month_b[0])}\" )"
      ],
      "outputs": [
        {
          "output_type": "stream",
          "name": "stdout",
          "text": [
            "Predict results using model 'a' for radio: RMFFM, month: Dec, artist and title: Wham! - Last Christmas, results 0\n",
            "Predict results using model 'a' for radio: RMFFM, month: Jun, artist and title: Wham! - Last Christmas, results 0\n",
            "Predict results using model 'b' for radio: RMFFM, month: Dec, artist and title: Wham! - Last Christmas, results 1\n",
            "Predict results using model 'b' for radio: RMFFM, month: Jun, artist and title: Wham! - Last Christmas, results 0\n"
          ]
        }
      ],
      "execution_count": 13,
      "metadata": {
        "collapsed": true,
        "jupyter": {
          "source_hidden": false,
          "outputs_hidden": false
        },
        "nteract": {
          "transient": {
            "deleting": false
          }
        },
        "gather": {
          "logged": 1620606357536
        }
      }
    },
    {
      "cell_type": "markdown",
      "source": [
        "# Use the model to check (predict) if given song will be played\r\n",
        "* use christmass song - Rotary - Na Jednej Z Dzikich Plaż\r\n",
        "* check for two different months - July and December"
      ],
      "metadata": {
        "nteract": {
          "transient": {
            "deleting": false
          }
        }
      }
    },
    {
      "cell_type": "code",
      "source": [
        "radio_name = 'RMFFM'\r\n",
        "artist_and_title = 'Rotary - Na Jednej Z Dzikich Plaż'\r\n",
        "month_a = 'December'\r\n",
        "month_b = 'June'\r\n",
        "\r\n",
        "radio_enc = df.loc[((df['radio_name'] == radio_name))][[\"radio_name_enc\"]].drop_duplicates( keep=\"first\").values[0][0]\r\n",
        "artist_title_enc = df.loc[((df['artist_and_title'] == artist_and_title))][[\"artist_and_title_enc\"]].drop_duplicates( keep=\"first\").values[0][0]\r\n",
        "month_a_enc = df.loc[((df['month_name'] == month_a))][[\"month_name_enc\"]].drop_duplicates( keep=\"first\").values[0][0]\r\n",
        "month_b_enc = df.loc[((df['month_name'] == month_b))][[\"month_name_enc\"]].drop_duplicates( keep=\"first\").values[0][0]\r\n",
        "\r\n",
        "model_a_month_a = model_a.predict([[radio_enc,month_a_enc,artist_title_enc]])\r\n",
        "model_a_month_b = model_a.predict([[radio_enc,month_b_enc,artist_title_enc]])\r\n",
        "model_b_month_a = model_b.predict([[radio_enc,month_a_enc,artist_title_enc]])\r\n",
        "model_b_month_b = model_b.predict([[radio_enc,month_b_enc,artist_title_enc]])\r\n",
        "\r\n",
        "print (f\"Predict results using model 'a' for radio: {radio_name}, month: {month_a[0:3]}, artist and title: {artist_and_title}, results {str(model_a_month_a[0])}\" )\r\n",
        "print (f\"Predict results using model 'a' for radio: {radio_name}, month: {month_b[0:3]}, artist and title: {artist_and_title}, results {str(model_a_month_b[0])}\" )\r\n",
        "print (f\"Predict results using model 'b' for radio: {radio_name}, month: {month_a[0:3]}, artist and title: {artist_and_title}, results {str(model_b_month_a[0])}\" )\r\n",
        "print (f\"Predict results using model 'b' for radio: {radio_name}, month: {month_b[0:3]}, artist and title: {artist_and_title}, results {str(model_b_month_b[0])}\" )"
      ],
      "outputs": [
        {
          "output_type": "stream",
          "name": "stdout",
          "text": [
            "Predict results using model 'a' for radio: RMFFM, month: Dec, artist and title: Rotary - Na Jednej Z Dzikich Plaż, results 0\n",
            "Predict results using model 'a' for radio: RMFFM, month: Jun, artist and title: Rotary - Na Jednej Z Dzikich Plaż, results 0\n",
            "Predict results using model 'b' for radio: RMFFM, month: Dec, artist and title: Rotary - Na Jednej Z Dzikich Plaż, results 0\n",
            "Predict results using model 'b' for radio: RMFFM, month: Jun, artist and title: Rotary - Na Jednej Z Dzikich Plaż, results 1\n"
          ]
        }
      ],
      "execution_count": 14,
      "metadata": {
        "collapsed": true,
        "jupyter": {
          "source_hidden": false,
          "outputs_hidden": false
        },
        "nteract": {
          "transient": {
            "deleting": false
          }
        },
        "gather": {
          "logged": 1620606364054
        }
      }
    },
    {
      "cell_type": "markdown",
      "source": [
        "# Export model to file"
      ],
      "metadata": {
        "nteract": {
          "transient": {
            "deleting": false
          }
        }
      }
    },
    {
      "cell_type": "code",
      "source": [
        "import joblib\r\n",
        "\r\n",
        "# Save the model as a pickle file\r\n",
        "filename = './models/song_model.pkl'\r\n",
        "joblib.dump(model_b, filename)"
      ],
      "outputs": [
        {
          "output_type": "execute_result",
          "execution_count": 15,
          "data": {
            "text/plain": "['./models/song_model.pkl']"
          },
          "metadata": {}
        }
      ],
      "execution_count": 15,
      "metadata": {
        "collapsed": true,
        "jupyter": {
          "source_hidden": false,
          "outputs_hidden": false
        },
        "nteract": {
          "transient": {
            "deleting": false
          }
        },
        "gather": {
          "logged": 1620606364325
        }
      }
    },
    {
      "cell_type": "markdown",
      "source": [
        "# Import model from file"
      ],
      "metadata": {
        "nteract": {
          "transient": {
            "deleting": false
          }
        }
      }
    },
    {
      "cell_type": "code",
      "source": [
        "import joblib\r\n",
        "\r\n",
        "# Load the model from the file\r\n",
        "filename = './models/song_model.pkl'\r\n",
        "model = joblib.load(filename)"
      ],
      "outputs": [],
      "execution_count": 16,
      "metadata": {
        "collapsed": true,
        "jupyter": {
          "source_hidden": false,
          "outputs_hidden": false
        },
        "nteract": {
          "transient": {
            "deleting": false
          }
        },
        "gather": {
          "logged": 1620606364666
        }
      }
    },
    {
      "cell_type": "markdown",
      "source": [
        "# Use the model imported from file for new prediction"
      ],
      "metadata": {
        "nteract": {
          "transient": {
            "deleting": false
          }
        }
      }
    },
    {
      "cell_type": "code",
      "source": [
        "radio_name = 'RMFFM'\r\n",
        "artist_and_title = 'Wham! - Last Christmas'\r\n",
        "month_a = 'December'\r\n",
        "month_b = 'June'\r\n",
        "\r\n",
        "radio_enc = df.loc[((df['radio_name'] == radio_name))][[\"radio_name_enc\"]].drop_duplicates( keep=\"first\").values[0][0]\r\n",
        "artist_title_enc = df.loc[((df['artist_and_title'] == artist_and_title))][[\"artist_and_title_enc\"]].drop_duplicates( keep=\"first\").values[0][0]\r\n",
        "month_a_enc = df.loc[((df['month_name'] == month_a))][[\"month_name_enc\"]].drop_duplicates( keep=\"first\").values[0][0]\r\n",
        "month_b_enc = df.loc[((df['month_name'] == month_b))][[\"month_name_enc\"]].drop_duplicates( keep=\"first\").values[0][0]\r\n",
        "\r\n",
        "model_month_a = model.predict([[radio_enc,month_a_enc,artist_title_enc]])\r\n",
        "model_month_b = model.predict([[radio_enc,month_b_enc,artist_title_enc]])\r\n",
        "\r\n",
        "print (f\"Predict results using model 'a' for radio: {radio_name}, month: {month_a[0:3]}, artist and title: {artist_and_title}, results {str(model_month_a[0])}\" )\r\n",
        "print (f\"Predict results using model 'a' for radio: {radio_name}, month: {month_b[0:3]}, artist and title: {artist_and_title}, results {str(model_month_b[0])}\" )"
      ],
      "outputs": [
        {
          "output_type": "stream",
          "name": "stdout",
          "text": [
            "Predict results using model 'a' for radio: RMFFM, month: Dec, artist and title: Wham! - Last Christmas, results 1\n",
            "Predict results using model 'a' for radio: RMFFM, month: Jun, artist and title: Wham! - Last Christmas, results 0\n"
          ]
        }
      ],
      "execution_count": 20,
      "metadata": {
        "collapsed": true,
        "jupyter": {
          "source_hidden": false,
          "outputs_hidden": false
        },
        "nteract": {
          "transient": {
            "deleting": false
          }
        },
        "gather": {
          "logged": 1620606530517
        }
      }
    },
    {
      "cell_type": "code",
      "source": [
        "radio_name = 'RMFFM'\r\n",
        "artist_and_title = 'Rotary - Na Jednej Z Dzikich Plaż'\r\n",
        "month_a = 'December'\r\n",
        "month_b = 'June'\r\n",
        "\r\n",
        "radio_enc = df.loc[((df['radio_name'] == radio_name))][[\"radio_name_enc\"]].drop_duplicates( keep=\"first\").values[0][0]\r\n",
        "artist_title_enc = df.loc[((df['artist_and_title'] == artist_and_title))][[\"artist_and_title_enc\"]].drop_duplicates( keep=\"first\").values[0][0]\r\n",
        "month_a_enc = df.loc[((df['month_name'] == month_a))][[\"month_name_enc\"]].drop_duplicates( keep=\"first\").values[0][0]\r\n",
        "month_b_enc = df.loc[((df['month_name'] == month_b))][[\"month_name_enc\"]].drop_duplicates( keep=\"first\").values[0][0]\r\n",
        "\r\n",
        "model_month_a = model.predict([[radio_enc,month_a_enc,artist_title_enc]])\r\n",
        "model_month_b = model.predict([[radio_enc,month_b_enc,artist_title_enc]])\r\n",
        "\r\n",
        "print (f\"Predict results using model 'a' for radio: {radio_name}, month: {month_a[0:3]}, artist and title: {artist_and_title}, results {str(model_month_a[0])}\" )\r\n",
        "print (f\"Predict results using model 'a' for radio: {radio_name}, month: {month_b[0:3]}, artist and title: {artist_and_title}, results {str(model_month_b[0])}\" )"
      ],
      "outputs": [
        {
          "output_type": "stream",
          "name": "stdout",
          "text": [
            "Predict results using model 'a' for radio: RMFFM, month: Dec, artist and title: Rotary - Na Jednej Z Dzikich Plaż, results 0\n",
            "Predict results using model 'a' for radio: RMFFM, month: Jun, artist and title: Rotary - Na Jednej Z Dzikich Plaż, results 1\n"
          ]
        }
      ],
      "execution_count": 19,
      "metadata": {
        "collapsed": true,
        "jupyter": {
          "source_hidden": false,
          "outputs_hidden": false
        },
        "nteract": {
          "transient": {
            "deleting": false
          }
        },
        "gather": {
          "logged": 1620606514741
        }
      }
    },
    {
      "cell_type": "code",
      "source": [],
      "outputs": [],
      "execution_count": null,
      "metadata": {
        "collapsed": true,
        "jupyter": {
          "source_hidden": false,
          "outputs_hidden": false
        },
        "nteract": {
          "transient": {
            "deleting": false
          }
        }
      }
    }
  ],
  "metadata": {
    "kernelspec": {
      "name": "python3-azureml",
      "language": "python",
      "display_name": "Python 3.6 - AzureML"
    },
    "language_info": {
      "name": "python",
      "version": "3.6.9",
      "mimetype": "text/x-python",
      "codemirror_mode": {
        "name": "ipython",
        "version": 3
      },
      "pygments_lexer": "ipython3",
      "nbconvert_exporter": "python",
      "file_extension": ".py"
    },
    "kernel_info": {
      "name": "python3-azureml"
    },
    "microsoft": {
      "host": {
        "AzureML": {
          "notebookHasBeenCompleted": true
        }
      }
    },
    "nteract": {
      "version": "nteract-front-end@1.0.0"
    }
  },
  "nbformat": 4,
  "nbformat_minor": 2
}